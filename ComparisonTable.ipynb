{
 "cells": [
  {
   "cell_type": "markdown",
   "metadata": {},
   "source": [
    "## Comparison of Binary Classification Performance:   "
   ]
  },
  {
   "cell_type": "markdown",
   "metadata": {},
   "source": [
    "----"
   ]
  },
  {
   "cell_type": "markdown",
   "metadata": {},
   "source": [
    "<b>DATASET</b>   | [MTBLS90](https://www.ebi.ac.uk/metabolights/MTBLS90)                                 | [MTBLS92](https://www.ebi.ac.uk/metabolights/MTBLS92)                                 | [MTBLS136](https://www.ebi.ac.uk/metabolights/MTBLS136)                                 | [MTBLS161](https://www.ebi.ac.uk/metabolights/MTBLS161)                                 | [MTBLS404](https://www.ebi.ac.uk/metabolights/MTBLS404)                                 | [MTBLS547](https://www.ebi.ac.uk/metabolights/MTBLS547)                                 | [ST000369](https://www.metabolomicsworkbench.org/data/DRCCMetadata.php?Mode=Study&StudyID=ST000865&StudyType=&ResultType=) | [ST000496](https://www.metabolomicsworkbench.org/data/DRCCMetadata.php?Mode=Study&StudyID=ST000496&StudyType=&ResultType=) | [ST001000](https://www.metabolomicsworkbench.org/data/DRCCMetadata.php?Mode=Study&StudyID=ST001000&StudyType=&ResultType=) | [ST001047](https://www.metabolomicsworkbench.org/data/DRCCMetadata.php?Mode=Study&StudyID=ST001047&StudyType=&ResultType=)\n",
    ":---         | ---                                                                                   | ---                                                                                   | ---                                                                                     | ---                                                                                     | ---                                                                                     | ---                                                                                     | ---                                                                                                                        | ---                                                                                                                        | ---                                                                                                                        | ---\n",
    "<b>PLATFORM</b>    | LC-MS                                                                                 | LC-MS                                                                                 | LC-MS                                                                                   | NMR                                                                                     | LC-MS                                                                                   | LC-MS                                                                                   | GC-MS                                                                                                                      | GC-MS                                                                                                                      | LC-MS                                                                                                                      | LC-MS\n",
    "<b>SAMPLE TYPE</b> | Plasma                                                                                | Plasma                                                                                | Serum                                                                                   | Serum                                                                                   | Urine                                                                                   | Caecal <br> Content                                                                          | Serum                                                                                                                      | Saliva                                                                                                                     | Stool                                                                                                                      | Urine\n",
    "<b> SAMPLE SIZE </b> | 968 <br> (485/483)                                                                         | 253  <br> (142/111)                                                                         | 668 <br> (337/331)                                                                           | 59 <br> (34/25)                                                                              | 184 <br> (101/83)                                                                            | 97 <br> (46/51)                                                                              | 80 <br> (49/31)                                                                                                                 | 100 <br> (50/50)                                                                                                                | 121 <br> (68/53)                                                                                                                | 83 <br> (43/40)\n",
    "<b> NO. OF PEAKS</b>   | 189                                                                                   | 138                                                                                   | 689                                                                                     | 29                                                                                      | 120                                                                                     | 42                                                                                      | 181                                                                                                                        | 69                                                                                                                         | 757                                                                                                                        | 149\n",
    "<b>PLS-DA</b>    | [html](html/PLSDA_MTBLS90.html)<br>[notebooks](notebooks/PLSDA_MTBLS90.ipynb)         | [html](html/PLSDA_MTBLS92.html)<br>[notebooks](notebooks/PLSDA_MTBLS92.ipynb)         | [html](html/PLSDA_MTBLS136.html)<br>[notebooks](notebooks/PLSDA_MTBLS136.ipynb)         | [html](html/PLSDA_MTBLS161.html)<br>[notebooks](notebooks/PLSDA_MTBLS161.ipynb)         | [html](html/PLSDA_MTBLS404.html)<br>[notebooks](notebooks/PLSDA_MTBLS404.ipynb)         | [html](html/PLSDA_MTBLS547.html)<br>[notebooks](notebooks/PLSDA_MTBLS547.ipynb)         | [html](html/PLSDA_ST000369.html)<br>[notebooks](notebooks/PLSDA_ST000369.ipynb)                                            | [html](html/PLSDA_ST000496.html)<br>[notebooks](notebooks/PLSDA_ST000496.ipynb)                                            | [html](html/PLSDA_ST001000.html)<br>[notebooks](notebooks/PLSDA_ST001000.ipynb)                                            | [html](html/PLSDA_ST001047.html)<br>[notebooks](notebooks/PLSDA_ST001047.ipynb)\n",
    "<b>PCR</b>       | [html](html/PCR_MTBLS90.html)<br>[notebooks](notebooks/PCR_MTBLS90.ipynb)             | [html](html/PCR_MTBLS92.html)<br>[notebooks](notebooks/PCR_MTBLS92.ipynb)             | [html](html/PCR_MTBLS136.html)<br>[notebooks](notebooks/PCR_MTBLS136.ipynb)             | [html](html/PCR_MTBLS161.html)<br>[notebooks](notebooks/PCR_MTBLS161.ipynb)             | [html](html/PCR_MTBLS404.html)<br>[notebooks](notebooks/PCR_MTBLS404.ipynb)             | [html](html/PCR_MTBLS547.html)<br>[notebooks](notebooks/PCR_MTBLS547.ipynb)             | [html](html/PCR_ST000369.html)<br>[notebooks](notebooks/PCR_ST000369.ipynb)                                                | [html](html/PCR_ST000496.html)<br>[notebooks](notebooks/PCR_ST000496.ipynb)                                                | [html](html/PCR_ST001000.html)<br>[notebooks](notebooks/PCR_ST001000.ipynb)                                                | [html](html/PCR_ST001047.html)<br>[notebooks](notebooks/PCR_ST001047.ipynb)\n",
    "<b>PCLR</b>      | [html](html/PCLR_MTBLS90.html)<br>[notebooks](notebooks/PCLR_MTBLS90.ipynb)           | [html](html/PCLR_MTBLS92.html)<br>[notebooks](notebooks/PCLR_MTBLS92.ipynb)           | [html](html/PCLR_MTBLS136.html)<br>[notebooks](notebooks/PCLR_MTBLS136.ipynb)           | [html](html/PCLR_MTBLS161.html)<br>[notebooks](notebooks/PCLR_MTBLS161.ipynb)           | [html](html/PCLR_MTBLS404.html)<br>[notebooks](notebooks/PCLR_MTBLS404.ipynb)           | [html](html/PCLR_MTBLS547.html)<br>[notebooks](notebooks/PCLR_MTBLS547.ipynb)           | [html](html/PCLR_ST000369.html)<br>[notebooks](notebooks/PCLR_ST000369.ipynb)                                              | [html](html/PCLR_ST000496.html)<br>[notebooks](notebooks/PCLR_ST000496.ipynb)                                              | [html](html/PCLR_ST001000.html)<br>[notebooks](notebooks/PCLR_ST001000.ipynb)                                              | [html](html/PCLR_ST001047.html)<br>[notebooks](notebooks/PCLR_ST001047.ipynb)\n",
    "<b>RF</b>          | [Static](html/RF_MTBLS90.html)<br>[notebooks](notebooks/RF_MTBLS90.ipynb)               | [html](html/RF_MTBLS92.html)<br>[notebooks](notebooks/RF_MTBLS92.ipynb)               | [html](html/RF_MTBLS136.html)<br>[notebooks](notebooks/RF_MTBLS136.ipynb)               | [html](html/RF_MTBLS161.html)<br>[notebooks](notebooks/RF_MTBLS161.ipynb)               | [html](html/RF_MTBLS404.html)<br>[notebooks](notebooks/RF_MTBLS404.ipynb)               | [html](html/RF_MTBLS547.html)<br>[notebooks](notebooks/RF_MTBLS547.ipynb)               | [html](html/RF_ST000369.html)<br>[notebooks](notebooks/RF_ST000369.ipynb)                                                  | [Static](html/RF_ST000496.html)<br>[notebooks](notebooks/RF_ST000496.ipynb)                                                  | [html](html/RF_ST001000.html)<br>[notebooks](notebooks/RF_ST001000.ipynb)                                                  | [html](html/RF_ST001047.html)<br>[notebooks](notebooks/RF_ST001047.ipynb)\n",
    "<b>SVM-Lin</b>     | [Static](html/SVMLin_MTBLS90.html)<br>[notebooks](notebooks/SVMLin_MTBLS90.ipynb)       | [html](html/SVMLin_MTBLS92.html)<br>[notebooks](notebooks/SVMLin_MTBLS92.ipynb)       | [html](html/SVMLin_MTBLS136.html)<br>[notebooks](notebooks/SVMLin_MTBLS136.ipynb)       | [html](html/SVMLin_MTBLS161.html)<br>[notebooks](notebooks/SVMLin_MTBLS161.ipynb)       | [html](html/SVMLin_MTBLS404.html)<br>[notebooks](notebooks/SVMLin_MTBLS404.ipynb)       | [html](html/SVMLin_MTBLS547.html)<br>[notebooks](notebooks/SVMLin_MTBLS547.ipynb)       | [html](html/SVMLin_ST000369.html)<br>[notebooks](notebooks/SVMLin_ST000369.ipynb)                                          | [html](html/SVMLin_ST000496.html)<br>[notebooks](notebooks/SVMLin_ST000496.ipynb)                                          | [html](html/SVMLin_ST001000.html)<br>[notebooks](notebooks/SVMLin_ST001000.ipynb)                                          | [html](html/SVMLin_ST001047.html)<br>[notebooks](notebooks/SVMLin_ST001047.ipynb)\n",
    "<b>SVM-RBF</b>     | [Static](html/SVMRBF_MTBLS90.html)<br>[notebooks](notebooks/SVMRBF_MTBLS90.ipynb)       | [html](html/SVMRBF_MTBLS92.html)<br>[notebooks](notebooks/SVMRBF_MTBLS92.ipynb)       | [html](html/SVMRBF_MTBLS136.html)<br>[notebooks](notebooks/SVMRBF_MTBLS136.ipynb)       | [html](html/SVMRBF_MTBLS161.html)<br>[notebooks](notebooks/SVMRBF_MTBLS161.ipynb)       | [html](html/SVMRBF_MTBLS404.html)<br>[notebooks](notebooks/SVMRBF_MTBLS404.ipynb)       | [html](html/SVMRBF_MTBLS547.html)<br>[notebooks](notebooks/SVMRBF_MTBLS547.ipynb)       | [html](html/SVMRBF_ST000369.html)<br>[notebooks](notebooks/SVMRBF_ST000369.ipynb)                                          | [html](html/SVMRBF_ST000496.html)<br>[notebooks](notebooks/SVMRBF_ST000496.ipynb)                                          | [Static](html/SVMRBF_ST001000.html)<br>[notebooks](notebooks/SVMRBF_ST001000.ipynb)                                          | [html](html/SVMRBF_ST001047.html)<br>[notebooks](notebooks/SVMRBF_ST001047.ipynb)\n",
    "<b>ANN-LS</b>      | [Static](html/ANNLinSig_MTBLS90.html)<br>[notebooks](notebooks/ANNLinSig_MTBLS90.ipynb) | [html](html/ANNLinSig_MTBLS92.html)<br>[notebooks](notebooks/ANNLinSig_MTBLS92.ipynb) | [html](html/ANNLinSig_MTBLS136.html)<br>[notebooks](notebooks/ANNLinSig_MTBLS136.ipynb) | [html](html/ANNLinSig_MTBLS161.html)<br>[notebooks](notebooks/ANNLinSig_MTBLS161.ipynb) | [html](html/ANNLinSig_MTBLS404.html)<br>[notebooks](notebooks/ANNLinSig_MTBLS404.ipynb) | [html](html/ANNLinSig_MTBLS547.html)<br>[notebooks](notebooks/ANNLinSig_MTBLS547.ipynb) | [html](html/ANNLinSig_ST000369.html)<br>[notebooks](notebooks/ANNLinSig_ST000369.ipynb)                                    | [html](html/ANNLinSig_ST000496.html)<br>[notebooks](notebooks/ANNLinSig_ST000496.ipynb)                                    | [html](html/ANNLinSig_ST001000.html)<br>[notebooks](notebooks/ANNLinSig_ST001000.ipynb)                                    | [html](html/ANNLinSig_ST001047.html)<br>[notebooks](notebooks/ANNLinSig_ST001047.ipynb)\n",
    "<b>ANN-SS</b>     | [html](html/ANNSigSig_MTBLS90.html)<br>[notebooks](notebooks/ANNSigSig_MTBLS90.ipynb) | [html](html/ANNSigSig_MTBLS92.html)<br>[notebooks](notebooks/ANNSigSig_MTBLS92.ipynb) | [html](html/ANNSigSig_MTBLS136.html)<br>[notebooks](notebooks/ANNSigSig_MTBLS136.ipynb) | [html](html/ANNSigSig_MTBLS161.html)<br>[notebooks](notebooks/ANNSigSig_MTBLS161.ipynb) | [Static](html/ANNSigSig_MTBLS404.html)<br>[notebooks](notebooks/ANNSigSig_MTBLS404.ipynb) | [html](html/ANNSigSig_MTBLS547.html)<br>[notebooks](notebooks/ANNSigSig_MTBLS547.ipynb) | [html](html/ANNSigSig_ST000369.html)<br>[notebooks](notebooks/ANNSigSig_ST000369.ipynb)                                    | [html](html/ANNSigSig_ST000496.html)<br>[notebooks](notebooks/ANNSigSig_ST000496.ipynb)                                    | [html](html/ANNSigSig_ST001000.html)<br>[notebooks](notebooks/ANNSigSig_ST001000.ipynb)                                    | [html](html/ANNSigSig_ST001047.html)<br>[notebooks](notebooks/ANNSigSig_ST001047.ipynb)"
   ]
  },
  {
   "cell_type": "markdown",
   "metadata": {},
   "source": [
    "---"
   ]
  }
 ],
 "metadata": {
  "kernelspec": {
   "display_name": "Python 3",
   "language": "python",
   "name": "python3"
  },
  "language_info": {
   "codemirror_mode": {
    "name": "ipython",
    "version": 3
   },
   "file_extension": ".py",
   "mimetype": "text/x-python",
   "name": "python",
   "nbconvert_exporter": "python",
   "pygments_lexer": "ipython3",
   "version": "3.7.3"
  },
  "toc": {
   "base_numbering": 1,
   "nav_menu": {},
   "number_sections": false,
   "sideBar": false,
   "skip_h1_title": false,
   "title_cell": "Table of Contents",
   "title_sidebar": "Contents",
   "toc_cell": false,
   "toc_position": {},
   "toc_section_display": false,
   "toc_window_display": false
  }
 },
 "nbformat": 4,
 "nbformat_minor": 2
}
