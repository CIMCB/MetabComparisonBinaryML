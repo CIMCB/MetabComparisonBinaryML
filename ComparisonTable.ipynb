{
 "cells": [
  {
   "cell_type": "markdown",
   "metadata": {},
   "source": [
    "## Comparison of Binary Classification Performance:   "
   ]
  },
  {
   "cell_type": "markdown",
   "metadata": {},
   "source": [
    "----"
   ]
  },
  {
   "cell_type": "markdown",
   "metadata": {},
   "source": [
    "<b>DATASET</b>   | [MTBLS90](https://www.ebi.ac.uk/metabolights/MTBLS90)                                 | [MTBLS92](https://www.ebi.ac.uk/metabolights/MTBLS92)                                 | [MTBLS136](https://www.ebi.ac.uk/metabolights/MTBLS136)                                 | [MTBLS161](https://www.ebi.ac.uk/metabolights/MTBLS161)                                 | [MTBLS404](https://www.ebi.ac.uk/metabolights/MTBLS404)                                 | [MTBLS547](https://www.ebi.ac.uk/metabolights/MTBLS547)                                 | [ST000369](https://www.metabolomicsworkbench.org/data/DRCCMetadata.php?Mode=Study&StudyID=ST000865&StudyType=&ResultType=) | [ST000496](https://www.metabolomicsworkbench.org/data/DRCCMetadata.php?Mode=Study&StudyID=ST000496&StudyType=&ResultType=) | [ST001000](https://www.metabolomicsworkbench.org/data/DRCCMetadata.php?Mode=Study&StudyID=ST001000&StudyType=&ResultType=) | [ST001047](https://www.metabolomicsworkbench.org/data/DRCCMetadata.php?Mode=Study&StudyID=ST001047&StudyType=&ResultType=)\n",
    ":---         | ---                                                                                   | ---                                                                                   | ---                                                                                     | ---                                                                                     | ---                                                                                     | ---                                                                                     | ---                                                                                                                        | ---                                                                                                                        | ---                                                                                                                        | ---\n",
    "<b>PLATFORM</b>    | LC-MS                                                                                 | LC-MS                                                                                 | LC-MS                                                                                   | NMR                                                                                     | LC-MS                                                                                   | LC-MS                                                                                   | GC-MS                                                                                                                      | GC-MS                                                                                                                      | LC-MS                                                                                                                      | LC-MS\n",
    "<b>SAMPLE TYPE</b> | Plasma                                                                                | Plasma                                                                                | Serum                                                                                   | Serum                                                                                   | Urine                                                                                   | Caecal <br> Content                                                                          | Serum                                                                                                                      | Saliva                                                                                                                     | Stool                                                                                                                      | Urine\n",
    "<b> SAMPLE SIZE </b> | 968 <br> (485/483)                                                                         | 253  <br> (142/111)                                                                         | 668 <br> (337/331)                                                                           | 59 <br> (34/25)                                                                              | 184 <br> (101/83)                                                                            | 97 <br> (46/51)                                                                              | 80 <br> (49/31)                                                                                                                 | 100 <br> (50/50)                                                                                                                | 121 <br> (68/53)                                                                                                                | 83 <br> (43/40)\n",
    "<b> NO. OF PEAKS</b>   | 189                                                                                   | 138                                                                                   | 689                                                                                     | 29                                                                                      | 120                                                                                     | 42                                                                                      | 181                                                                                                                        | 69                                                                                                                         | 757                                                                                                                        | 149\n",
    "<b>PLS-DA</b>    | [static](static/PLSDA_MTBLS90.html)<br>[dynamic](dynamic/PLSDA_MTBLS90.ipynb)         | [static](static/PLSDA_MTBLS92.html)<br>[dynamic](dynamic/PLSDA_MTBLS92.ipynb)         | [static](static/PLSDA_MTBLS136.html)<br>[dynamic](dynamic/PLSDA_MTBLS136.ipynb)         | [static](static/PLSDA_MTBLS161.html)<br>[dynamic](dynamic/PLSDA_MTBLS161.ipynb)         | [static](static/PLSDA_MTBLS404.html)<br>[dynamic](dynamic/PLSDA_MTBLS404.ipynb)         | [static](static/PLSDA_MTBLS547.html)<br>[dynamic](dynamic/PLSDA_MTBLS547.ipynb)         | [static](static/PLSDA_ST000369.html)<br>[dynamic](dynamic/PLSDA_ST000369.ipynb)                                            | [static](static/PLSDA_ST000496.html)<br>[dynamic](dynamic/PLSDA_ST000496.ipynb)                                            | [static](static/PLSDA_ST001000.html)<br>[dynamic](dynamic/PLSDA_ST001000.ipynb)                                            | [static](static/PLSDA_ST001047.html)<br>[dynamic](dynamic/PLSDA_ST001047.ipynb)\n",
    "<b>PCR</b>       | [static](static/PCR_MTBLS90.html)<br>[dynamic](dynamic/PCR_MTBLS90.ipynb)             | [static](static/PCR_MTBLS92.html)<br>[dynamic](dynamic/PCR_MTBLS92.ipynb)             | [static](static/PCR_MTBLS136.html)<br>[dynamic](dynamic/PCR_MTBLS136.ipynb)             | [static](static/PCR_MTBLS161.html)<br>[dynamic](dynamic/PCR_MTBLS161.ipynb)             | [static](static/PCR_MTBLS404.html)<br>[dynamic](dynamic/PCR_MTBLS404.ipynb)             | [static](static/PCR_MTBLS547.html)<br>[dynamic](dynamic/PCR_MTBLS547.ipynb)             | [static](static/PCR_ST000369.html)<br>[dynamic](dynamic/PCR_ST000369.ipynb)                                                | [static](static/PCR_ST000496.html)<br>[dynamic](dynamic/PCR_ST000496.ipynb)                                                | [static](static/PCR_ST001000.html)<br>[dynamic](dynamic/PCR_ST001000.ipynb)                                                | [static](static/PCR_ST001047.html)<br>[dynamic](dynamic/PCR_ST001047.ipynb)\n",
    "<b>PCLR</b>      | [static](static/PCLR_MTBLS90.html)<br>[dynamic](dynamic/PCLR_MTBLS90.ipynb)           | [static](static/PCLR_MTBLS92.html)<br>[dynamic](dynamic/PCLR_MTBLS92.ipynb)           | [static](static/PCLR_MTBLS136.html)<br>[dynamic](dynamic/PCLR_MTBLS136.ipynb)           | [static](static/PCLR_MTBLS161.html)<br>[dynamic](dynamic/PCLR_MTBLS161.ipynb)           | [static](static/PCLR_MTBLS404.html)<br>[dynamic](dynamic/PCLR_MTBLS404.ipynb)           | [static](static/PCLR_MTBLS547.html)<br>[dynamic](dynamic/PCLR_MTBLS547.ipynb)           | [static](static/PCLR_ST000369.html)<br>[dynamic](dynamic/PCLR_ST000369.ipynb)                                              | [static](static/PCLR_ST000496.html)<br>[dynamic](dynamic/PCLR_ST000496.ipynb)                                              | [static](static/PCLR_ST001000.html)<br>[dynamic](dynamic/PCLR_ST001000.ipynb)                                              | [static](static/PCLR_ST001047.html)<br>[dynamic](dynamic/PCLR_ST001047.ipynb)\n",
    "<b>RF</b>          | [Static](static/RF_MTBLS90.html)<br>[dynamic](dynamic/RF_MTBLS90.ipynb)               | [static](static/RF_MTBLS92.html)<br>[dynamic](dynamic/RF_MTBLS92.ipynb)               | [static](static/RF_MTBLS136.html)<br>[dynamic](dynamic/RF_MTBLS136.ipynb)               | [static](static/RF_MTBLS161.html)<br>[dynamic](dynamic/RF_MTBLS161.ipynb)               | [static](static/RF_MTBLS404.html)<br>[dynamic](dynamic/RF_MTBLS404.ipynb)               | [static](static/RF_MTBLS547.html)<br>[dynamic](dynamic/RF_MTBLS547.ipynb)               | [static](static/RF_ST000369.html)<br>[dynamic](dynamic/RF_ST000369.ipynb)                                                  | [Static](static/RF_ST000496.html)<br>[dynamic](dynamic/RF_ST000496.ipynb)                                                  | [static](static/RF_ST001000.html)<br>[dynamic](dynamic/RF_ST001000.ipynb)                                                  | [static](static/RF_ST001047.html)<br>[dynamic](dynamic/RF_ST001047.ipynb)\n",
    "<b>SVM-Lin</b>     | [Static](static/SVMLin_MTBLS90.html)<br>[dynamic](dynamic/SVMLin_MTBLS90.ipynb)       | [static](static/SVMLin_MTBLS92.html)<br>[dynamic](dynamic/SVMLin_MTBLS92.ipynb)       | [static](static/SVMLin_MTBLS136.html)<br>[dynamic](dynamic/SVMLin_MTBLS136.ipynb)       | [static](static/SVMLin_MTBLS161.html)<br>[dynamic](dynamic/SVMLin_MTBLS161.ipynb)       | [static](static/SVMLin_MTBLS404.html)<br>[dynamic](dynamic/SVMLin_MTBLS404.ipynb)       | [static](static/SVMLin_MTBLS547.html)<br>[dynamic](dynamic/SVMLin_MTBLS547.ipynb)       | [static](static/SVMLin_ST000369.html)<br>[dynamic](dynamic/SVMLin_ST000369.ipynb)                                          | [static](static/SVMLin_ST000496.html)<br>[dynamic](dynamic/SVMLin_ST000496.ipynb)                                          | [static](static/SVMLin_ST001000.html)<br>[dynamic](dynamic/SVMLin_ST001000.ipynb)                                          | [static](static/SVMLin_ST001047.html)<br>[dynamic](dynamic/SVMLin_ST001047.ipynb)\n",
    "<b>SVM-RBF</b>     | [Static](static/SVMRBF_MTBLS90.html)<br>[dynamic](dynamic/SVMRBF_MTBLS90.ipynb)       | [static](static/SVMRBF_MTBLS92.html)<br>[dynamic](dynamic/SVMRBF_MTBLS92.ipynb)       | [static](static/SVMRBF_MTBLS136.html)<br>[dynamic](dynamic/SVMRBF_MTBLS136.ipynb)       | [static](static/SVMRBF_MTBLS161.html)<br>[dynamic](dynamic/SVMRBF_MTBLS161.ipynb)       | [static](static/SVMRBF_MTBLS404.html)<br>[dynamic](dynamic/SVMRBF_MTBLS404.ipynb)       | [static](static/SVMRBF_MTBLS547.html)<br>[dynamic](dynamic/SVMRBF_MTBLS547.ipynb)       | [static](static/SVMRBF_ST000369.html)<br>[dynamic](dynamic/SVMRBF_ST000369.ipynb)                                          | [static](static/SVMRBF_ST000496.html)<br>[dynamic](dynamic/SVMRBF_ST000496.ipynb)                                          | [Static](static/SVMRBF_ST001000.html)<br>[dynamic](dynamic/SVMRBF_ST001000.ipynb)                                          | [static](static/SVMRBF_ST001047.html)<br>[dynamic](dynamic/SVMRBF_ST001047.ipynb)\n",
    "<b>ANN-LS</b>      | [Static](static/ANNLinSig_MTBLS90.html)<br>[dynamic](dynamic/ANNLinSig_MTBLS90.ipynb) | [static](static/ANNLinSig_MTBLS92.html)<br>[dynamic](dynamic/ANNLinSig_MTBLS92.ipynb) | [static](static/ANNLinSig_MTBLS136.html)<br>[dynamic](dynamic/ANNLinSig_MTBLS136.ipynb) | [static](static/ANNLinSig_MTBLS161.html)<br>[dynamic](dynamic/ANNLinSig_MTBLS161.ipynb) | [static](static/ANNLinSig_MTBLS404.html)<br>[dynamic](dynamic/ANNLinSig_MTBLS404.ipynb) | [static](static/ANNLinSig_MTBLS547.html)<br>[dynamic](dynamic/ANNLinSig_MTBLS547.ipynb) | [static](static/ANNLinSig_ST000369.html)<br>[dynamic](dynamic/ANNLinSig_ST000369.ipynb)                                    | [static](static/ANNLinSig_ST000496.html)<br>[dynamic](dynamic/ANNLinSig_ST000496.ipynb)                                    | [static](static/ANNLinSig_ST001000.html)<br>[dynamic](dynamic/ANNLinSig_ST001000.ipynb)                                    | [static](static/ANNLinSig_ST001047.html)<br>[dynamic](dynamic/ANNLinSig_ST001047.ipynb)\n",
    "<b>ANN-SS</b>     | [static](static/ANNSigSig_MTBLS90.html)<br>[dynamic](dynamic/ANNSigSig_MTBLS90.ipynb) | [static](static/ANNSigSig_MTBLS92.html)<br>[dynamic](dynamic/ANNSigSig_MTBLS92.ipynb) | [static](static/ANNSigSig_MTBLS136.html)<br>[dynamic](dynamic/ANNSigSig_MTBLS136.ipynb) | [static](static/ANNSigSig_MTBLS161.html)<br>[dynamic](dynamic/ANNSigSig_MTBLS161.ipynb) | [Static](static/ANNSigSig_MTBLS404.html)<br>[dynamic](dynamic/ANNSigSig_MTBLS404.ipynb) | [static](static/ANNSigSig_MTBLS547.html)<br>[dynamic](dynamic/ANNSigSig_MTBLS547.ipynb) | [static](static/ANNSigSig_ST000369.html)<br>[dynamic](dynamic/ANNSigSig_ST000369.ipynb)                                    | [static](static/ANNSigSig_ST000496.html)<br>[dynamic](dynamic/ANNSigSig_ST000496.ipynb)                                    | [static](static/ANNSigSig_ST001000.html)<br>[dynamic](dynamic/ANNSigSig_ST001000.ipynb)                                    | [static](static/ANNSigSig_ST001047.html)<br>[dynamic](dynamic/ANNSigSig_ST001047.ipynb)"
   ]
  },
  {
   "cell_type": "markdown",
   "metadata": {},
   "source": [
    "---"
   ]
  }
 ],
 "metadata": {
  "kernelspec": {
   "display_name": "Python 3",
   "language": "python",
   "name": "python3"
  },
  "language_info": {
   "codemirror_mode": {
    "name": "ipython",
    "version": 3
   },
   "file_extension": ".py",
   "mimetype": "text/x-python",
   "name": "python",
   "nbconvert_exporter": "python",
   "pygments_lexer": "ipython3",
   "version": "3.7.3"
  },
  "toc": {
   "base_numbering": 1,
   "nav_menu": {},
   "number_sections": false,
   "sideBar": false,
   "skip_h1_title": false,
   "title_cell": "Table of Contents",
   "title_sidebar": "Contents",
   "toc_cell": false,
   "toc_position": {},
   "toc_section_display": false,
   "toc_window_display": false
  }
 },
 "nbformat": 4,
 "nbformat_minor": 2
}
